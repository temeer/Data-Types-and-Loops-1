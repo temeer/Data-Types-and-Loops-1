{
 "cells": [
  {
   "cell_type": "markdown",
   "metadata": {},
   "source": [
    "#Задание 1"
   ]
  },
  {
   "cell_type": "code",
   "execution_count": null,
   "metadata": {},
   "outputs": [],
   "source": [
    "name = input()\n",
    "\n",
    "l = len(name)\n",
    "if (l % 2 != 0) : \n",
    "    print(name[l//2])\n",
    "else:\n",
    "    print(name[l//2-1:l//2+1])"
   ]
  },
  {
   "cell_type": "code",
   "execution_count": null,
   "metadata": {},
   "outputs": [],
   "source": [
    "#Задание 2\n",
    "          "
   ]
  },
  {
   "cell_type": "markdown",
   "metadata": {},
   "source": [
    "Напишите программу, которая последовательно запрашивает у пользователя числа (по одному за раз) и после первого нуля выводит сумму всех ранее введенных чисел.\n",
    "\n",
    "Примеры работы программы:\n",
    "\n",
    "Введите число:\n",
    "1\n",
    "\n",
    "Введите число:\n",
    "4\n",
    "\n",
    "Введите число:\n",
    "6\n",
    "\n",
    "Введите число:\n",
    "0\n",
    "Результат:\n",
    "11\n",
    "\n",
    "Введите число:\n",
    "0\n",
    "Результат:\n",
    "0"
   ]
  },
  {
   "cell_type": "code",
   "execution_count": null,
   "metadata": {},
   "outputs": [],
   "source": []
  },
  {
   "cell_type": "code",
   "execution_count": 47,
   "metadata": {},
   "outputs": [
    {
     "name": "stdout",
     "output_type": "stream",
     "text": [
      "Введите число: 1\n",
      "Введите число: 0\n",
      "1\n"
     ]
    }
   ],
   "source": [
    "l = []\n",
    "x = 1\n",
    "while x != 0:\n",
    "    x = int(input('Введите число: '))\n",
    "    l.append(x)\n",
    "summa = 0\n",
    "for x in l:\n",
    "    summa += x\n",
    "print(summa)\n",
    "    \n",
    "    "
   ]
  },
  {
   "cell_type": "markdown",
   "metadata": {},
   "source": [
    "#Задание 3\n"
   ]
  },
  {
   "cell_type": "code",
   "execution_count": 7,
   "metadata": {},
   "outputs": [],
   "source": [
    "boys = ['Коля', 'Федя']\n",
    "girls = ['Маша', 'Лиза']"
   ]
  },
  {
   "cell_type": "code",
   "execution_count": 52,
   "metadata": {},
   "outputs": [
    {
     "name": "stdout",
     "output_type": "stream",
     "text": [
      "Идеальные пары:\n",
      "Коля и Лиза\n",
      "Федя и Маша\n"
     ]
    }
   ],
   "source": [
    "if len(boys) != len(girls):\n",
    "    print('Внимание, кто-то может остаться без пары!')\n",
    "else:\n",
    "    sorted_boys = sorted(boys)\n",
    "    sorted_girls = sorted(girls)\n",
    "    print('Идеальные пары:')\n",
    "    i = 0\n",
    "    while i < len(boys):\n",
    "        print(sorted_boys[i], 'и', sorted_girls[i])\n",
    "        i += 1 "
   ]
  },
  {
   "cell_type": "code",
   "execution_count": 9,
   "metadata": {},
   "outputs": [],
   "source": [
    "#Задание 4"
   ]
  },
  {
   "cell_type": "code",
   "execution_count": 1,
   "metadata": {},
   "outputs": [],
   "source": [
    "countries_temperature = [\n",
    "[\"Thailand\", [75.2, 77, 78.8, 73.4, 68, 75.2, 77]],\n",
    "[\"Germany\", [57.2, 55.4, 59, 59, 53.6]],\n",
    "[\"Russia\", [35.6, 37.4, 39.2, 41, 42.8, 39.2, 35.6]],\n",
    "[\"Poland\", [50, 50, 53.6, 57.2, 55.4, 55.4]]\n",
    "]"
   ]
  },
  {
   "cell_type": "code",
   "execution_count": 2,
   "metadata": {},
   "outputs": [],
   "source": [
    "for couple in countries_temperature:\n",
    "    sum_temp=0\n",
    "    for temp_far in couple[1]:\n",
    "        sum_temp += temp_far\n",
    "    sum_temp /= len(couple[1])\n",
    "    cels_sum_temp= (sum_temp - 32) / 1.8\n",
    "    couple.append(cels_sum_temp)\n"
   ]
  },
  {
   "cell_type": "code",
   "execution_count": 5,
   "metadata": {},
   "outputs": [
    {
     "name": "stdout",
     "output_type": "stream",
     "text": [
      "Средняя температура в странах:\n",
      "Thailand   23.857142857142854\n",
      "Germany   13.799999999999997\n",
      "Russia   3.7142857142857166\n",
      "Poland   11.999999999999996\n"
     ]
    }
   ],
   "source": [
    "print('Средняя температура в странах:')\n",
    "for c in countries_temperature:\n",
    "    print(c[0],' ', c[2])"
   ]
  },
  {
   "cell_type": "code",
   "execution_count": 10,
   "metadata": {},
   "outputs": [],
   "source": [
    "#Задание 5\n"
   ]
  },
  {
   "cell_type": "code",
   "execution_count": 34,
   "metadata": {},
   "outputs": [
    {
     "name": "stdout",
     "output_type": "stream",
     "text": [
      "23.25\n"
     ]
    }
   ],
   "source": [
    "stream = [\n",
    "\"2018-01-01,user1,3\",\n",
    "\"2018-01-07,user1,4\",\n",
    "\"2018-03-29,user1,1\",\n",
    "\"2018-04-04,user1,13\",\n",
    "\"2018-01-05,user2,7\",\n",
    "\"2018-06-14,user3,4\",\n",
    "\"2018-07-02,user3,10\",\n",
    "\"2018-03-21,user4,19\",\n",
    "\"2018-03-22,user4,4\",\n",
    "\"2018-04-22,user4,8\",\n",
    "\"2018-05-03,user4,9\",\n",
    "\"2018-05-11,user4,11\",\n",
    "]\n",
    "summa = 0\n",
    "quantity = 0 \n",
    "users = []\n",
    "for string in stream:\n",
    "    splitted_string = string.split(',')\n",
    "    summa += int(splitted_string[2])\n",
    "    if splitted_string[1] not in users:\n",
    "        users.append(splitted_string[1])\n",
    "        quantity += 1\n",
    "print(summa / quantity)\n",
    "    \n"
   ]
  },
  {
   "cell_type": "markdown",
   "metadata": {},
   "source": [
    "#Задание 6"
   ]
  },
  {
   "cell_type": "code",
   "execution_count": 50,
   "metadata": {},
   "outputs": [
    {
     "name": "stdout",
     "output_type": "stream",
     "text": [
      "Введите числа:1 1 2 44 3 44 1\n",
      "1\n",
      "44\n"
     ]
    }
   ],
   "source": [
    "string = input('Введите числа:')\n",
    "l = string.split()\n",
    "toprint = []\n",
    "printed = []\n",
    "for ch in l:\n",
    "    if (ch in toprint) and (ch not in printed):\n",
    "        print(ch)\n",
    "        printed.append(ch)\n",
    "    toprint.append(ch) \n",
    " "
   ]
  },
  {
   "cell_type": "code",
   "execution_count": null,
   "metadata": {},
   "outputs": [],
   "source": []
  }
 ],
 "metadata": {
  "kernelspec": {
   "display_name": "Python 3",
   "language": "python",
   "name": "python3"
  },
  "language_info": {
   "codemirror_mode": {
    "name": "ipython",
    "version": 3
   },
   "file_extension": ".py",
   "mimetype": "text/x-python",
   "name": "python",
   "nbconvert_exporter": "python",
   "pygments_lexer": "ipython3",
   "version": "3.8.3"
  }
 },
 "nbformat": 4,
 "nbformat_minor": 4
}
